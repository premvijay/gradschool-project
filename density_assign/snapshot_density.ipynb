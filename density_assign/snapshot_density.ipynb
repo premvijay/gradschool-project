{
 "cells": [
  {
   "cell_type": "code",
   "execution_count": 2,
   "metadata": {},
   "outputs": [],
   "source": [
    "import numpy as np\n",
    "import matplotlib.pyplot as plt\n",
    "import os\n",
    "import sys\n",
    "module_path = os.path.abspath(os.path.join('..'))\n",
    "if module_path not in sys.path:\n",
    "    sys.path.append(module_path)"
   ]
  },
  {
   "cell_type": "code",
   "execution_count": 2,
   "metadata": {},
   "outputs": [],
   "source": [
    "# from lenstools.simulations import Gadget2Snapshot"
   ]
  },
  {
   "cell_type": "code",
   "execution_count": 3,
   "metadata": {},
   "outputs": [],
   "source": [
    "from other_lib.read_binary_gadget import read_binary_gadget"
   ]
  },
  {
   "cell_type": "code",
   "execution_count": 4,
   "metadata": {},
   "outputs": [],
   "source": [
    "snapshot_file = \"/usr1/student/premv/Documents/snapshot_200.3\""
   ]
  },
  {
   "cell_type": "code",
   "execution_count": 5,
   "metadata": {},
   "outputs": [
    {
     "name": "stdout",
     "output_type": "stream",
     "text": [
      "reading the first block (header) which contains  [256]  bytes\n",
      "Header block is read and it contains  256 bytes\n"
     ]
    }
   ],
   "source": [
    "snapshot = read_binary_gadget(snapshot_file)"
   ]
  },
  {
   "cell_type": "code",
   "execution_count": 6,
   "metadata": {},
   "outputs": [],
   "source": [
    "# dir(snapshot)"
   ]
  },
  {
   "cell_type": "code",
   "execution_count": 7,
   "metadata": {},
   "outputs": [
    {
     "data": {
      "text/plain": [
       "150.0"
      ]
     },
     "execution_count": 7,
     "metadata": {},
     "output_type": "execute_result"
    }
   ],
   "source": [
    "snapshot.BoxSize"
   ]
  },
  {
   "cell_type": "code",
   "execution_count": 8,
   "metadata": {},
   "outputs": [
    {
     "data": {
      "text/plain": [
       "133874731"
      ]
     },
     "execution_count": 8,
     "metadata": {},
     "output_type": "execute_result"
    }
   ],
   "source": [
    "snapshot.NumPart_ThisFile[1]"
   ]
  },
  {
   "cell_type": "code",
   "execution_count": 9,
   "metadata": {},
   "outputs": [
    {
     "data": {
      "text/plain": [
       "8"
      ]
     },
     "execution_count": 9,
     "metadata": {},
     "output_type": "execute_result"
    }
   ],
   "source": [
    "snapshot.NumFilesPerSnapshot"
   ]
  },
  {
   "cell_type": "code",
   "execution_count": 10,
   "metadata": {},
   "outputs": [
    {
     "data": {
      "text/plain": [
       "0.7"
      ]
     },
     "execution_count": 10,
     "metadata": {},
     "output_type": "execute_result"
    }
   ],
   "source": [
    "snapshot.HubbleParam"
   ]
  },
  {
   "cell_type": "code",
   "execution_count": 11,
   "metadata": {
    "scrolled": true
   },
   "outputs": [
    {
     "data": {
      "text/plain": [
       "1073741824"
      ]
     },
     "execution_count": 11,
     "metadata": {},
     "output_type": "execute_result"
    }
   ],
   "source": [
    "snapshot.NumPart_Total[1]"
   ]
  },
  {
   "cell_type": "code",
   "execution_count": 12,
   "metadata": {
    "scrolled": true
   },
   "outputs": [
    {
     "name": "stdout",
     "output_type": "stream",
     "text": [
      "reading the second block (position) which contains  1606496772  bytes\n",
      "Position block is read and it contains  1606496772 bytes\n"
     ]
    }
   ],
   "source": [
    "posd = snapshot.read_posd()"
   ]
  },
  {
   "cell_type": "code",
   "execution_count": 13,
   "metadata": {},
   "outputs": [
    {
     "data": {
      "text/plain": [
       "array([107.985596,  39.60013 ,  27.59664 ], dtype=float32)"
      ]
     },
     "execution_count": 13,
     "metadata": {},
     "output_type": "execute_result"
    }
   ],
   "source": [
    "posd[184393,:]"
   ]
  },
  {
   "cell_type": "code",
   "execution_count": 14,
   "metadata": {},
   "outputs": [],
   "source": [
    "# snapshot.g.seek(256+4,0)"
   ]
  },
  {
   "cell_type": "code",
   "execution_count": 15,
   "metadata": {},
   "outputs": [],
   "source": [
    "# np.fromfile(snapshot.g,dtype = np.int32,count =1)[0]"
   ]
  },
  {
   "cell_type": "code",
   "execution_count": 16,
   "metadata": {},
   "outputs": [
    {
     "data": {
      "text/plain": [
       "(133874731, 3)"
      ]
     },
     "execution_count": 16,
     "metadata": {},
     "output_type": "execute_result"
    }
   ],
   "source": [
    "posd.shape"
   ]
  },
  {
   "cell_type": "code",
   "execution_count": 17,
   "metadata": {},
   "outputs": [
    {
     "data": {
      "text/plain": [
       "133874731.0"
      ]
     },
     "execution_count": 17,
     "metadata": {},
     "output_type": "execute_result"
    }
   ],
   "source": [
    "posd.nbytes/12"
   ]
  },
  {
   "cell_type": "code",
   "execution_count": 18,
   "metadata": {},
   "outputs": [
    {
     "data": {
      "text/plain": [
       "array([149.99998 ,  74.999985, 112.53748 ], dtype=float32)"
      ]
     },
     "execution_count": 18,
     "metadata": {},
     "output_type": "execute_result"
    }
   ],
   "source": [
    "np.amax(posd,0)"
   ]
  },
  {
   "cell_type": "code",
   "execution_count": 19,
   "metadata": {},
   "outputs": [
    {
     "data": {
      "text/plain": [
       "array([74.99999,  0.     , 18.69375], dtype=float32)"
      ]
     },
     "execution_count": 19,
     "metadata": {},
     "output_type": "execute_result"
    }
   ],
   "source": [
    "np.amin(posd,0)"
   ]
  },
  {
   "cell_type": "code",
   "execution_count": null,
   "metadata": {},
   "outputs": [],
   "source": []
  },
  {
   "cell_type": "code",
   "execution_count": 3,
   "metadata": {},
   "outputs": [],
   "source": [
    "def assign_func_ngp(cell_size):\n",
    "    return lambda diff : 1 if diff < cell_size/2 else 0\n",
    "\n",
    "def assign_func_cic(cell_size):\n",
    "    return lambda diff : 1 - diff/cell_size if diff < cell_size else 0\n",
    "\n",
    "def assign_func_tsc(cell_size):\n",
    "    def W(diff):\n",
    "        if diff < cell_size/2:\n",
    "            return 3/4 - (diff/cell_size)**2\n",
    "        elif diff < 3*cell_size/2:\n",
    "            return 1/2 * (3/2 - diff/cell_size)**2\n",
    "        else:\n",
    "            return 0\n",
    "    return W"
   ]
  },
  {
   "cell_type": "code",
   "execution_count": null,
   "metadata": {},
   "outputs": [],
   "source": []
  },
  {
   "cell_type": "code",
   "execution_count": 6,
   "metadata": {},
   "outputs": [
    {
     "data": {
      "text/plain": [
       "Text(0.5, 1, 'Mass assignment function for cell size of 1 $h^{-1}$ Mpc')"
      ]
     },
     "execution_count": 6,
     "metadata": {},
     "output_type": "execute_result"
    },
    {
     "data": {
      "image/png": "[encoded data removed]",
      "text/plain": [
       "<Figure size 840x480 with 1 Axes>"
      ]
     },
     "metadata": {
      "needs_background": "light"
     },
     "output_type": "display_data"
    }
   ],
   "source": [
    "d = np.linspace (0,2.5)\n",
    "plt.figure(figsize=(7,4),dpi=120)\n",
    "plt.plot(d,np.vectorize(assign_func_ngp(1))(d),label='Nearest Grid Point (NGP)')\n",
    "plt.plot(d,np.vectorize(assign_func_cic(1))(d),label='Cloud In Cell (CIC)')\n",
    "plt.plot(d,np.vectorize(assign_func_tsc(1))(d),label='Triangular Shaped Cloud (TSC)')\n",
    "plt.legend()\n",
    "plt.xlabel(\"distance between particle and grid cell centre along an axis ($h^{-1}$ Mpc)\")\n",
    "plt.ylabel(\"W\")\n",
    "plt.savefig(\"density-assignment_functions.pdf\", bbox_inches=\"tight\")\n",
    "plt.title(\"Mass assignment function for cell size of 1 $h^{-1}$ Mpc\")"
   ]
  },
  {
   "cell_type": "code",
   "execution_count": null,
   "metadata": {},
   "outputs": [],
   "source": []
  },
  {
   "cell_type": "code",
   "execution_count": 22,
   "metadata": {},
   "outputs": [],
   "source": [
    "shape = (128,)*3\n",
    "density_grid = np.zeros(shape)"
   ]
  },
  {
   "cell_type": "code",
   "execution_count": 23,
   "metadata": {},
   "outputs": [
    {
     "data": {
      "text/plain": [
       "(128, 128, 128)"
      ]
     },
     "execution_count": 23,
     "metadata": {},
     "output_type": "execute_result"
    }
   ],
   "source": [
    "density_grid.shape"
   ]
  },
  {
   "cell_type": "code",
   "execution_count": 24,
   "metadata": {},
   "outputs": [],
   "source": [
    "# grid = np.indices(shape)\n",
    "# grid[:,np.array([1,2])[:,None],[2,5,3],3]"
   ]
  },
  {
   "cell_type": "code",
   "execution_count": 25,
   "metadata": {},
   "outputs": [],
   "source": [
    "# np.array([1,2])[:,None]"
   ]
  },
  {
   "cell_type": "code",
   "execution_count": null,
   "metadata": {},
   "outputs": [],
   "source": []
  },
  {
   "cell_type": "code",
   "execution_count": 26,
   "metadata": {},
   "outputs": [],
   "source": [
    "W = np.vectorize(assign_func_cic(1))"
   ]
  },
  {
   "cell_type": "code",
   "execution_count": 27,
   "metadata": {},
   "outputs": [],
   "source": [
    "# posd = np.array([[4,4,3.6],[4,4,4]])"
   ]
  },
  {
   "cell_type": "code",
   "execution_count": 28,
   "metadata": {},
   "outputs": [],
   "source": [
    "# from numba import jit"
   ]
  },
  {
   "cell_type": "code",
   "execution_count": 29,
   "metadata": {},
   "outputs": [],
   "source": [
    "def assign_to_grid(posdi):\n",
    "    global density_grid\n",
    "    posgrid = posdi.astype(np.uint16)   # scale position units in terms of grid cell size.\n",
    "    cell_indices = (np.array([posgrid[j],posgrid[j]+1]) for j in range(3))\n",
    "    cells = np.meshgrid(*cell_indices)  # Cell index = position of cell centre, so index 7 is cell from 6.5 to 7.5\n",
    "    density_grid[tuple(cells)] += np.prod(W(np.abs(np.array(cells) - posdi[:,None,None,None])),axis=0) "
   ]
  },
  {
   "cell_type": "code",
   "execution_count": 30,
   "metadata": {},
   "outputs": [],
   "source": [
    "# for i in range(posd.shape[0]):\n",
    "#     assign_to_grid(posd[i])"
   ]
  },
  {
   "cell_type": "code",
   "execution_count": 31,
   "metadata": {
    "scrolled": true
   },
   "outputs": [],
   "source": [
    "for i in range(20000):\n",
    "# for i in range(posd.shape[0]):\n",
    "    posgrid = posd[i].astype(np.uint16)   # scale position units in terms of grid cell size.\n",
    "    cell_indices = (np.array([posgrid[j],posgrid[j]+1]) for j in range(3))\n",
    "    cells = np.meshgrid(*cell_indices)  # Cell index = position of cell centre, so index 7 is cell from 6.5 to 7.5\n",
    "    density_grid[tuple(cells)] += np.prod(W(np.abs(np.array(cells) - posd[i,:,None,None,None])),axis=0)    "
   ]
  },
  {
   "cell_type": "code",
   "execution_count": 32,
   "metadata": {},
   "outputs": [
    {
     "data": {
      "text/plain": [
       "6694.071253562678"
      ]
     },
     "execution_count": 32,
     "metadata": {},
     "output_type": "execute_result"
    }
   ],
   "source": [
    "posd.shape[0]/i"
   ]
  },
  {
   "cell_type": "code",
   "execution_count": 33,
   "metadata": {},
   "outputs": [
    {
     "data": {
      "text/plain": [
       "16777216"
      ]
     },
     "execution_count": 33,
     "metadata": {},
     "output_type": "execute_result"
    }
   ],
   "source": [
    "density_grid.nbytes"
   ]
  },
  {
   "cell_type": "code",
   "execution_count": 34,
   "metadata": {},
   "outputs": [
    {
     "data": {
      "text/plain": [
       "0.0"
      ]
     },
     "execution_count": 34,
     "metadata": {},
     "output_type": "execute_result"
    }
   ],
   "source": [
    "density_grid[4,4,4]"
   ]
  },
  {
   "cell_type": "code",
   "execution_count": null,
   "metadata": {},
   "outputs": [],
   "source": []
  },
  {
   "cell_type": "code",
   "execution_count": null,
   "metadata": {},
   "outputs": [],
   "source": []
  },
  {
   "cell_type": "code",
   "execution_count": null,
   "metadata": {},
   "outputs": [],
   "source": []
  },
  {
   "cell_type": "code",
   "execution_count": null,
   "metadata": {},
   "outputs": [],
   "source": []
  },
  {
   "cell_type": "code",
   "execution_count": null,
   "metadata": {},
   "outputs": [],
   "source": []
  },
  {
   "cell_type": "code",
   "execution_count": null,
   "metadata": {},
   "outputs": [],
   "source": []
  },
  {
   "cell_type": "code",
   "execution_count": 35,
   "metadata": {},
   "outputs": [],
   "source": [
    "# Jupyter based interaction\n",
    "from ipywidgets import interact\n",
    "# fig2, ax2 = plt.subplots(dpi=120)\n",
    "# im = plt.imshow(log_density_grid[:,:,100])\n",
    "# @interact(third_direction=(0,150))\n",
    "# def show2D(third_direction):\n",
    "#     print(\"third {}\".format(third_direction))\n",
    "#     im.set_data(log_density_grid[:,:,int(third_direction)])\n",
    "#     plt.draw()\n",
    "    "
   ]
  },
  {
   "cell_type": "code",
   "execution_count": null,
   "metadata": {},
   "outputs": [],
   "source": []
  },
  {
   "cell_type": "code",
   "execution_count": null,
   "metadata": {},
   "outputs": [],
   "source": []
  },
  {
   "cell_type": "code",
   "execution_count": null,
   "metadata": {},
   "outputs": [],
   "source": []
  },
  {
   "cell_type": "code",
   "execution_count": null,
   "metadata": {},
   "outputs": [],
   "source": []
  },
  {
   "cell_type": "code",
   "execution_count": 36,
   "metadata": {},
   "outputs": [
    {
     "data": {
      "text/plain": [
       "(133874731, 3)"
      ]
     },
     "execution_count": 36,
     "metadata": {},
     "output_type": "execute_result"
    }
   ],
   "source": [
    "posd.shape"
   ]
  },
  {
   "cell_type": "code",
   "execution_count": null,
   "metadata": {},
   "outputs": [],
   "source": []
  },
  {
   "cell_type": "code",
   "execution_count": 37,
   "metadata": {},
   "outputs": [
    {
     "data": {
      "text/plain": [
       "0.6271591"
      ]
     },
     "execution_count": 37,
     "metadata": {},
     "output_type": "execute_result"
    }
   ],
   "source": [
    "posd[i,0]-posgrid[0]"
   ]
  },
  {
   "cell_type": "code",
   "execution_count": 38,
   "metadata": {},
   "outputs": [
    {
     "data": {
      "text/plain": [
       "array([110,  45,  23], dtype=uint16)"
      ]
     },
     "execution_count": 38,
     "metadata": {},
     "output_type": "execute_result"
    }
   ],
   "source": [
    "posgrid"
   ]
  },
  {
   "cell_type": "code",
   "execution_count": 39,
   "metadata": {},
   "outputs": [
    {
     "data": {
      "text/plain": [
       "array([110.62716 ,  45.70753 ,  23.300278], dtype=float32)"
      ]
     },
     "execution_count": 39,
     "metadata": {},
     "output_type": "execute_result"
    }
   ],
   "source": [
    "posd[i]"
   ]
  },
  {
   "cell_type": "code",
   "execution_count": 40,
   "metadata": {},
   "outputs": [
    {
     "data": {
      "text/plain": [
       "array([[110,  45,  23],\n",
       "       [110,  45,  23],\n",
       "       [110,  45,  23]], dtype=uint16)"
      ]
     },
     "execution_count": 40,
     "metadata": {},
     "output_type": "execute_result"
    }
   ],
   "source": [
    "np.meshgrid(posgrid,posgrid)[0]"
   ]
  },
  {
   "cell_type": "code",
   "execution_count": 41,
   "metadata": {},
   "outputs": [],
   "source": [
    "posgrid = posd[i].astype(np.uint16)\n",
    "xs = np.array([posgrid[0],posgrid[0]+1])\n",
    "ys = np.array([posgrid[1],posgrid[1]+1])\n",
    "zs = np.array([posgrid[2],posgrid[2]+1])\n",
    "cells = tuple(np.meshgrid(xs,ys,zs))"
   ]
  },
  {
   "cell_type": "code",
   "execution_count": 42,
   "metadata": {},
   "outputs": [
    {
     "data": {
      "text/plain": [
       "(array([[[110, 110],\n",
       "         [111, 111]],\n",
       " \n",
       "        [[110, 110],\n",
       "         [111, 111]]]), array([[[45, 45],\n",
       "         [45, 45]],\n",
       " \n",
       "        [[46, 46],\n",
       "         [46, 46]]]), array([[[23, 24],\n",
       "         [23, 24]],\n",
       " \n",
       "        [[23, 24],\n",
       "         [23, 24]]]))"
      ]
     },
     "execution_count": 42,
     "metadata": {},
     "output_type": "execute_result"
    }
   ],
   "source": [
    "cells"
   ]
  },
  {
   "cell_type": "code",
   "execution_count": 43,
   "metadata": {},
   "outputs": [],
   "source": [
    "cell_indices = (np.array([posgrid[j],posgrid[j]+1]) for j in range(3))\n",
    "cells = np.meshgrid(*cell_indices)"
   ]
  },
  {
   "cell_type": "code",
   "execution_count": 44,
   "metadata": {},
   "outputs": [
    {
     "data": {
      "text/plain": [
       "[array([[[110, 110],\n",
       "         [111, 111]],\n",
       " \n",
       "        [[110, 110],\n",
       "         [111, 111]]]), array([[[45, 45],\n",
       "         [45, 45]],\n",
       " \n",
       "        [[46, 46],\n",
       "         [46, 46]]]), array([[[23, 24],\n",
       "         [23, 24]],\n",
       " \n",
       "        [[23, 24],\n",
       "         [23, 24]]])]"
      ]
     },
     "execution_count": 44,
     "metadata": {},
     "output_type": "execute_result"
    }
   ],
   "source": [
    "cells"
   ]
  },
  {
   "cell_type": "code",
   "execution_count": 45,
   "metadata": {},
   "outputs": [
    {
     "data": {
      "text/plain": [
       "array([[[[0.37284088, 0.37284088],\n",
       "         [0.62715912, 0.62715912]],\n",
       "\n",
       "        [[0.37284088, 0.37284088],\n",
       "         [0.62715912, 0.62715912]]],\n",
       "\n",
       "\n",
       "       [[[0.29246902, 0.29246902],\n",
       "         [0.29246902, 0.29246902]],\n",
       "\n",
       "        [[0.70753098, 0.70753098],\n",
       "         [0.70753098, 0.70753098]]],\n",
       "\n",
       "\n",
       "       [[[0.69972229, 0.30027771],\n",
       "         [0.69972229, 0.30027771]],\n",
       "\n",
       "        [[0.69972229, 0.30027771],\n",
       "         [0.69972229, 0.30027771]]]])"
      ]
     },
     "execution_count": 45,
     "metadata": {},
     "output_type": "execute_result"
    }
   ],
   "source": [
    "W(np.abs(np.array(cells) - posd[i,:,None,None,None]))"
   ]
  },
  {
   "cell_type": "code",
   "execution_count": null,
   "metadata": {},
   "outputs": [],
   "source": []
  },
  {
   "cell_type": "code",
   "execution_count": null,
   "metadata": {},
   "outputs": [],
   "source": []
  },
  {
   "cell_type": "code",
   "execution_count": null,
   "metadata": {},
   "outputs": [],
   "source": []
  }
 ],
 "metadata": {
  "kernelspec": {
   "display_name": "Python 3",
   "language": "python",
   "name": "python3"
  },
  "language_info": {
   "codemirror_mode": {
    "name": "ipython",
    "version": 3
   },
   "file_extension": ".py",
   "mimetype": "text/x-python",
   "name": "python",
   "nbconvert_exporter": "python",
   "pygments_lexer": "ipython3",
   "version": "3.7.6"
  },
  "varInspector": {
   "cols": {
    "lenName": 16,
    "lenType": 16,
    "lenVar": 40
   },
   "kernels_config": {
    "python": {
     "delete_cmd_postfix": "",
     "delete_cmd_prefix": "del ",
     "library": "var_list.py",
     "varRefreshCmd": "print(var_dic_list())"
    },
    "r": {
     "delete_cmd_postfix": ") ",
     "delete_cmd_prefix": "rm(",
     "library": "var_list.r",
     "varRefreshCmd": "cat(var_dic_list()) "
    }
   },
   "types_to_exclude": [
    "module",
    "function",
    "builtin_function_or_method",
    "instance",
    "_Feature"
   ],
   "window_display": false
  }
 },
 "nbformat": 4,
 "nbformat_minor": 4
}
