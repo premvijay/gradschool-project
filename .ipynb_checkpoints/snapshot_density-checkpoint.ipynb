{
 "cells": [
  {
   "cell_type": "code",
   "execution_count": 1,
   "metadata": {},
   "outputs": [],
   "source": [
    "import numpy as np\n",
    "import matplotlib.pyplot as plt"
   ]
  },
  {
   "cell_type": "code",
   "execution_count": 2,
   "metadata": {},
   "outputs": [],
   "source": [
    "# from lenstools.simulations import Gadget2Snapshot"
   ]
  },
  {
   "cell_type": "code",
   "execution_count": 3,
   "metadata": {},
   "outputs": [],
   "source": [
    "from other_lib.read_binary_gadget import read_binary_gadget"
   ]
  },
  {
   "cell_type": "code",
   "execution_count": 4,
   "metadata": {},
   "outputs": [],
   "source": [
    "snapshot_file = \"/usr1/student/premv/Documents/snapshot_200.0\""
   ]
  },
  {
   "cell_type": "code",
   "execution_count": 5,
   "metadata": {},
   "outputs": [
    {
     "name": "stdout",
     "output_type": "stream",
     "text": [
      "reading the first block (header) which contains  [256]  bytes\n",
      "Header block is read and it contains  256 bytes\n"
     ]
    }
   ],
   "source": [
    "snapshot = read_binary_gadget(snapshot_file)"
   ]
  },
  {
   "cell_type": "code",
   "execution_count": 6,
   "metadata": {},
   "outputs": [
    {
     "data": {
      "text/plain": [
       "['BoxSize',\n",
       " 'Flag_Cooling',\n",
       " 'Flag_Entropy_ICs',\n",
       " 'Flag_Feedback',\n",
       " 'Flag_Metals',\n",
       " 'Flag_Sfr',\n",
       " 'Flag_StellarAge',\n",
       " 'HubbleParam',\n",
       " 'MassTable',\n",
       " 'NumFilesPerSnapshot',\n",
       " 'NumPart_ThisFile',\n",
       " 'NumPart_Total',\n",
       " 'NumPart_Total_HW',\n",
       " 'Omega0',\n",
       " 'OmegaLambda',\n",
       " 'Redshift',\n",
       " 'Time',\n",
       " '__class__',\n",
       " '__delattr__',\n",
       " '__dict__',\n",
       " '__dir__',\n",
       " '__doc__',\n",
       " '__eq__',\n",
       " '__format__',\n",
       " '__ge__',\n",
       " '__getattribute__',\n",
       " '__gt__',\n",
       " '__hash__',\n",
       " '__init__',\n",
       " '__init_subclass__',\n",
       " '__le__',\n",
       " '__lt__',\n",
       " '__module__',\n",
       " '__ne__',\n",
       " '__new__',\n",
       " '__reduce__',\n",
       " '__reduce_ex__',\n",
       " '__repr__',\n",
       " '__setattr__',\n",
       " '__sizeof__',\n",
       " '__str__',\n",
       " '__subclasshook__',\n",
       " '__weakref__',\n",
       " 'g',\n",
       " 'read_pid',\n",
       " 'read_posd',\n",
       " 'read_veld',\n",
       " 'select_pos_vel',\n",
       " 'select_these']"
      ]
     },
     "execution_count": 6,
     "metadata": {},
     "output_type": "execute_result"
    }
   ],
   "source": [
    "dir(snapshot)"
   ]
  },
  {
   "cell_type": "code",
   "execution_count": 7,
   "metadata": {},
   "outputs": [
    {
     "data": {
      "text/plain": [
       "150.0"
      ]
     },
     "execution_count": 7,
     "metadata": {},
     "output_type": "execute_result"
    }
   ],
   "source": [
    "snapshot.BoxSize"
   ]
  },
  {
   "cell_type": "code",
   "execution_count": 8,
   "metadata": {},
   "outputs": [
    {
     "data": {
      "text/plain": [
       "133159949"
      ]
     },
     "execution_count": 8,
     "metadata": {},
     "output_type": "execute_result"
    }
   ],
   "source": [
    "snapshot.NumPart_ThisFile[1]"
   ]
  },
  {
   "cell_type": "code",
   "execution_count": 9,
   "metadata": {},
   "outputs": [
    {
     "data": {
      "text/plain": [
       "8"
      ]
     },
     "execution_count": 9,
     "metadata": {},
     "output_type": "execute_result"
    }
   ],
   "source": [
    "snapshot.NumFilesPerSnapshot"
   ]
  },
  {
   "cell_type": "code",
   "execution_count": 10,
   "metadata": {},
   "outputs": [
    {
     "data": {
      "text/plain": [
       "0.7"
      ]
     },
     "execution_count": 10,
     "metadata": {},
     "output_type": "execute_result"
    }
   ],
   "source": [
    "snapshot.HubbleParam"
   ]
  },
  {
   "cell_type": "code",
   "execution_count": 11,
   "metadata": {
    "scrolled": true
   },
   "outputs": [
    {
     "data": {
      "text/plain": [
       "1073741824"
      ]
     },
     "execution_count": 11,
     "metadata": {},
     "output_type": "execute_result"
    }
   ],
   "source": [
    "snapshot.NumPart_Total[1]"
   ]
  },
  {
   "cell_type": "code",
   "execution_count": 12,
   "metadata": {},
   "outputs": [
    {
     "name": "stdout",
     "output_type": "stream",
     "text": [
      "reading the second block (position) which contains  1597919388  bytes\n",
      "Position block is read and it contains  1597919388 bytes\n"
     ]
    }
   ],
   "source": [
    "posd = snapshot.read_posd()"
   ]
  },
  {
   "cell_type": "code",
   "execution_count": 13,
   "metadata": {},
   "outputs": [],
   "source": [
    "# snapshot.g.seek(256+4,0)"
   ]
  },
  {
   "cell_type": "code",
   "execution_count": 14,
   "metadata": {},
   "outputs": [],
   "source": [
    "# np.fromfile(snapshot.g,dtype = np.int32,count =1)[0]"
   ]
  },
  {
   "cell_type": "code",
   "execution_count": 15,
   "metadata": {},
   "outputs": [
    {
     "data": {
      "text/plain": [
       "(133159949, 3)"
      ]
     },
     "execution_count": 15,
     "metadata": {},
     "output_type": "execute_result"
    }
   ],
   "source": [
    "posd.shape"
   ]
  },
  {
   "cell_type": "code",
   "execution_count": 16,
   "metadata": {},
   "outputs": [
    {
     "data": {
      "text/plain": [
       "133159949.0"
      ]
     },
     "execution_count": 16,
     "metadata": {},
     "output_type": "execute_result"
    }
   ],
   "source": [
    "posd.nbytes/12"
   ]
  },
  {
   "cell_type": "code",
   "execution_count": 17,
   "metadata": {},
   "outputs": [
    {
     "data": {
      "text/plain": [
       "array([74.999985, 93.76874 , 74.999985], dtype=float32)"
      ]
     },
     "execution_count": 17,
     "metadata": {},
     "output_type": "execute_result"
    }
   ],
   "source": [
    "np.amax(posd,0)"
   ]
  },
  {
   "cell_type": "code",
   "execution_count": null,
   "metadata": {},
   "outputs": [],
   "source": []
  },
  {
   "cell_type": "code",
   "execution_count": null,
   "metadata": {},
   "outputs": [],
   "source": []
  },
  {
   "cell_type": "code",
   "execution_count": 18,
   "metadata": {},
   "outputs": [],
   "source": [
    "def assign_func_ngp(cell_size):\n",
    "    return lambda diff : 1 if diff < cell_size/2 else 0\n",
    "\n",
    "def assign_func_cic(cell_size):\n",
    "    return lambda diff : 1 - diff/cell_size if diff < cell_size else 0\n",
    "\n",
    "def assign_func_tsc(cell_size):\n",
    "    def W(diff):\n",
    "        if diff < cell_size/2:\n",
    "            return 3/4 - (diff/cell_size)**2\n",
    "        elif diff < 3*cell_size/2:\n",
    "            return 1/2 * (3/2 - diff/cell_size)**2\n",
    "        else:\n",
    "            return 0\n",
    "    return W"
   ]
  },
  {
   "cell_type": "code",
   "execution_count": null,
   "metadata": {},
   "outputs": [],
   "source": []
  },
  {
   "cell_type": "code",
   "execution_count": 19,
   "metadata": {},
   "outputs": [
    {
     "data": {
      "text/plain": [
       "Text(0.5, 1.0, 'Density assignment function for cell size of 10')"
      ]
     },
     "execution_count": 19,
     "metadata": {},
     "output_type": "execute_result"
    },
    {
     "data": {
      "image/png": "[encoded data removed]",
      "text/plain": [
       "<Figure size 432x288 with 1 Axes>"
      ]
     },
     "metadata": {
      "needs_background": "light"
     },
     "output_type": "display_data"
    }
   ],
   "source": [
    "d = np.linspace (0,25)\n",
    "plt.plot(d,np.vectorize(assign_func_ngp(10))(d),label='Nearest Grid Point (NGP)')\n",
    "plt.plot(d,np.vectorize(assign_func_cic(10))(d),label='Cloud In Cell (CIC)')\n",
    "plt.plot(d,np.vectorize(assign_func_tsc(10))(d),label='Triangular Shaped Cloud (TSC)')\n",
    "plt.legend()\n",
    "plt.xlabel(\"distance between particle and grid cell centre\")\n",
    "plt.ylabel(\"W\")\n",
    "plt.title(\"Density assignment function for cell size of 10\")"
   ]
  },
  {
   "cell_type": "code",
   "execution_count": null,
   "metadata": {},
   "outputs": [],
   "source": []
  },
  {
   "cell_type": "code",
   "execution_count": 20,
   "metadata": {},
   "outputs": [],
   "source": [
    "shape = (128,)*3\n",
    "density_grid = np.zeros(shape)"
   ]
  },
  {
   "cell_type": "code",
   "execution_count": 28,
   "metadata": {},
   "outputs": [
    {
     "data": {
      "text/plain": [
       "(128, 128, 128)"
      ]
     },
     "execution_count": 28,
     "metadata": {},
     "output_type": "execute_result"
    }
   ],
   "source": [
    "density_grid.shape"
   ]
  },
  {
   "cell_type": "code",
   "execution_count": 29,
   "metadata": {},
   "outputs": [],
   "source": [
    "# grid = np.indices(shape)\n",
    "# grid[:,np.array([1,2])[:,None],[2,5,3],3]"
   ]
  },
  {
   "cell_type": "code",
   "execution_count": 30,
   "metadata": {},
   "outputs": [],
   "source": [
    "# np.array([1,2])[:,None]"
   ]
  },
  {
   "cell_type": "code",
   "execution_count": null,
   "metadata": {},
   "outputs": [],
   "source": []
  },
  {
   "cell_type": "code",
   "execution_count": 31,
   "metadata": {},
   "outputs": [],
   "source": [
    "W = np.vectorize(assign_func_cic(1))"
   ]
  },
  {
   "cell_type": "code",
   "execution_count": 42,
   "metadata": {},
   "outputs": [],
   "source": [
    "# posd = np.array([[4,4,3.6],[4,4,4]])"
   ]
  },
  {
   "cell_type": "code",
   "execution_count": 44,
   "metadata": {},
   "outputs": [],
   "source": [
    "from numba import jit"
   ]
  },
  {
   "cell_type": "code",
   "execution_count": 47,
   "metadata": {},
   "outputs": [],
   "source": [
    "def assign_to_grid(posdi):\n",
    "    global density_grid\n",
    "    posgrid = posdi.astype(np.uint16)   # scale position units in terms of grid cell size.\n",
    "    cell_indices = (np.array([posgrid[j],posgrid[j]+1]) for j in range(3))\n",
    "    cells = np.meshgrid(*cell_indices)  # Cell index = position of cell centre, so index 7 is cell from 6.5 to 7.5\n",
    "    density_grid[tuple(cells)] += np.prod(W(np.abs(np.array(cells) - posdi[:,None,None,None])),axis=0) "
   ]
  },
  {
   "cell_type": "code",
   "execution_count": 49,
   "metadata": {},
   "outputs": [],
   "source": [
    "# for i in range(posd.shape[0]):\n",
    "#     assign_to_grid(posd[i])"
   ]
  },
  {
   "cell_type": "code",
   "execution_count": 54,
   "metadata": {
    "scrolled": true
   },
   "outputs": [],
   "source": [
    "for i in range(20000):\n",
    "# for i in range(posd.shape[0]):\n",
    "    posgrid = posd[i].astype(np.uint16)   # scale position units in terms of grid cell size.\n",
    "    cell_indices = (np.array([posgrid[j],posgrid[j]+1]) for j in range(3))\n",
    "    cells = np.meshgrid(*cell_indices)  # Cell index = position of cell centre, so index 7 is cell from 6.5 to 7.5\n",
    "    density_grid[tuple(cells)] += np.prod(W(np.abs(np.array(cells) - posd[i,:,None,None,None])),axis=0)    "
   ]
  },
  {
   "cell_type": "code",
   "execution_count": 55,
   "metadata": {},
   "outputs": [
    {
     "data": {
      "text/plain": [
       "6658.330366518326"
      ]
     },
     "execution_count": 55,
     "metadata": {},
     "output_type": "execute_result"
    }
   ],
   "source": [
    "posd.shape[0]/i"
   ]
  },
  {
   "cell_type": "code",
   "execution_count": 56,
   "metadata": {},
   "outputs": [
    {
     "data": {
      "text/plain": [
       "16777216"
      ]
     },
     "execution_count": 56,
     "metadata": {},
     "output_type": "execute_result"
    }
   ],
   "source": [
    "density_grid.nbytes"
   ]
  },
  {
   "cell_type": "code",
   "execution_count": 57,
   "metadata": {},
   "outputs": [
    {
     "data": {
      "text/plain": [
       "2345.8169721158247"
      ]
     },
     "execution_count": 57,
     "metadata": {},
     "output_type": "execute_result"
    }
   ],
   "source": [
    "density_grid[4,4,4]"
   ]
  },
  {
   "cell_type": "code",
   "execution_count": 58,
   "metadata": {},
   "outputs": [],
   "source": [
    "# Jupyter based interaction\n",
    "from ipywidgets import interact\n",
    "# fig2, ax2 = plt.subplots(dpi=120)\n",
    "# @interact(third_direction=(0,127))\n",
    "# def show2D(third_direction):\n",
    "#     ax2.imshow(density_grid[:,:,int(third_direction)])"
   ]
  },
  {
   "cell_type": "code",
   "execution_count": null,
   "metadata": {},
   "outputs": [],
   "source": []
  },
  {
   "cell_type": "code",
   "execution_count": null,
   "metadata": {},
   "outputs": [],
   "source": []
  },
  {
   "cell_type": "code",
   "execution_count": 29,
   "metadata": {},
   "outputs": [
    {
     "data": {
      "text/plain": [
       "(133159949, 3)"
      ]
     },
     "execution_count": 29,
     "metadata": {},
     "output_type": "execute_result"
    }
   ],
   "source": [
    "posd.shape"
   ]
  },
  {
   "cell_type": "code",
   "execution_count": null,
   "metadata": {},
   "outputs": [],
   "source": []
  },
  {
   "cell_type": "code",
   "execution_count": 47,
   "metadata": {},
   "outputs": [
    {
     "data": {
      "text/plain": [
       "0.26598287"
      ]
     },
     "execution_count": 47,
     "metadata": {},
     "output_type": "execute_result"
    }
   ],
   "source": [
    "posd[i,0]-posgrid[0]"
   ]
  },
  {
   "cell_type": "code",
   "execution_count": 48,
   "metadata": {},
   "outputs": [
    {
     "data": {
      "text/plain": [
       "array([3, 0, 2], dtype=uint16)"
      ]
     },
     "execution_count": 48,
     "metadata": {},
     "output_type": "execute_result"
    }
   ],
   "source": [
    "posgrid"
   ]
  },
  {
   "cell_type": "code",
   "execution_count": 49,
   "metadata": {},
   "outputs": [
    {
     "data": {
      "text/plain": [
       "array([3.2659829 , 0.31818238, 2.962007  ], dtype=float32)"
      ]
     },
     "execution_count": 49,
     "metadata": {},
     "output_type": "execute_result"
    }
   ],
   "source": [
    "posd[i]"
   ]
  },
  {
   "cell_type": "code",
   "execution_count": 50,
   "metadata": {},
   "outputs": [
    {
     "data": {
      "text/plain": [
       "array([[3, 0, 2],\n",
       "       [3, 0, 2],\n",
       "       [3, 0, 2]], dtype=uint16)"
      ]
     },
     "execution_count": 50,
     "metadata": {},
     "output_type": "execute_result"
    }
   ],
   "source": [
    "np.meshgrid(posgrid,posgrid)[0]"
   ]
  },
  {
   "cell_type": "code",
   "execution_count": 51,
   "metadata": {},
   "outputs": [],
   "source": [
    "posgrid = posd[i].astype(np.uint16)\n",
    "xs = np.array([posgrid[0],posgrid[0]+1])\n",
    "ys = np.array([posgrid[1],posgrid[1]+1])\n",
    "zs = np.array([posgrid[2],posgrid[2]+1])\n",
    "cells = tuple(np.meshgrid(xs,ys,zs))"
   ]
  },
  {
   "cell_type": "code",
   "execution_count": 52,
   "metadata": {},
   "outputs": [
    {
     "data": {
      "text/plain": [
       "(array([[[3, 3],\n",
       "         [4, 4]],\n",
       " \n",
       "        [[3, 3],\n",
       "         [4, 4]]]), array([[[0, 0],\n",
       "         [0, 0]],\n",
       " \n",
       "        [[1, 1],\n",
       "         [1, 1]]]), array([[[2, 3],\n",
       "         [2, 3]],\n",
       " \n",
       "        [[2, 3],\n",
       "         [2, 3]]]))"
      ]
     },
     "execution_count": 52,
     "metadata": {},
     "output_type": "execute_result"
    }
   ],
   "source": [
    "cells"
   ]
  },
  {
   "cell_type": "code",
   "execution_count": 53,
   "metadata": {},
   "outputs": [],
   "source": [
    "cell_indices = (np.array([posgrid[j],posgrid[j]+1]) for j in range(3))\n",
    "cells = np.meshgrid(*cell_indices)"
   ]
  },
  {
   "cell_type": "code",
   "execution_count": 54,
   "metadata": {},
   "outputs": [
    {
     "data": {
      "text/plain": [
       "[array([[[3, 3],\n",
       "         [4, 4]],\n",
       " \n",
       "        [[3, 3],\n",
       "         [4, 4]]]), array([[[0, 0],\n",
       "         [0, 0]],\n",
       " \n",
       "        [[1, 1],\n",
       "         [1, 1]]]), array([[[2, 3],\n",
       "         [2, 3]],\n",
       " \n",
       "        [[2, 3],\n",
       "         [2, 3]]])]"
      ]
     },
     "execution_count": 54,
     "metadata": {},
     "output_type": "execute_result"
    }
   ],
   "source": [
    "cells"
   ]
  },
  {
   "cell_type": "code",
   "execution_count": 55,
   "metadata": {},
   "outputs": [
    {
     "data": {
      "text/plain": [
       "array([[[[0.73401713, 0.73401713],\n",
       "         [0.26598287, 0.26598287]],\n",
       "\n",
       "        [[0.73401713, 0.73401713],\n",
       "         [0.26598287, 0.26598287]]],\n",
       "\n",
       "\n",
       "       [[[0.68181762, 0.68181762],\n",
       "         [0.68181762, 0.68181762]],\n",
       "\n",
       "        [[0.31818238, 0.31818238],\n",
       "         [0.31818238, 0.31818238]]],\n",
       "\n",
       "\n",
       "       [[[0.03799295, 0.96200705],\n",
       "         [0.03799295, 0.96200705]],\n",
       "\n",
       "        [[0.03799295, 0.96200705],\n",
       "         [0.03799295, 0.96200705]]]])"
      ]
     },
     "execution_count": 55,
     "metadata": {},
     "output_type": "execute_result"
    }
   ],
   "source": [
    "W(np.abs(np.array(cells) - posd[i,:,None,None,None]))"
   ]
  },
  {
   "cell_type": "code",
   "execution_count": null,
   "metadata": {},
   "outputs": [],
   "source": []
  },
  {
   "cell_type": "code",
   "execution_count": null,
   "metadata": {},
   "outputs": [],
   "source": []
  },
  {
   "cell_type": "code",
   "execution_count": null,
   "metadata": {},
   "outputs": [],
   "source": []
  }
 ],
 "metadata": {
  "kernelspec": {
   "display_name": "Python 3",
   "language": "python",
   "name": "python3"
  },
  "language_info": {
   "codemirror_mode": {
    "name": "ipython",
    "version": 3
   },
   "file_extension": ".py",
   "mimetype": "text/x-python",
   "name": "python",
   "nbconvert_exporter": "python",
   "pygments_lexer": "ipython3",
   "version": "3.7.6"
  },
  "varInspector": {
   "cols": {
    "lenName": 16,
    "lenType": 16,
    "lenVar": 40
   },
   "kernels_config": {
    "python": {
     "delete_cmd_postfix": "",
     "delete_cmd_prefix": "del ",
     "library": "var_list.py",
     "varRefreshCmd": "print(var_dic_list())"
    },
    "r": {
     "delete_cmd_postfix": ") ",
     "delete_cmd_prefix": "rm(",
     "library": "var_list.r",
     "varRefreshCmd": "cat(var_dic_list()) "
    }
   },
   "types_to_exclude": [
    "module",
    "function",
    "builtin_function_or_method",
    "instance",
    "_Feature"
   ],
   "window_display": false
  }
 },
 "nbformat": 4,
 "nbformat_minor": 4
}
